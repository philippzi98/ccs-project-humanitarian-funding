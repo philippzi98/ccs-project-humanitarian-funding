{
  "nbformat": 4,
  "nbformat_minor": 0,
  "metadata": {
    "colab": {
      "provenance": []
    },
    "kernelspec": {
      "name": "python3",
      "display_name": "Python 3"
    },
    "language_info": {
      "name": "python"
    }
  },
  "cells": [
    {
      "cell_type": "markdown",
      "source": [
        "**Import Libraries**"
      ],
      "metadata": {
        "id": "u7q1rzmMmM9l"
      }
    },
    {
      "cell_type": "code",
      "source": [
        "import numpy as np\n",
        "import matplotlib.pyplot as plt\n",
        "import copy"
      ],
      "metadata": {
        "id": "nDveMj1Rl40J"
      },
      "execution_count": 64,
      "outputs": []
    },
    {
      "cell_type": "markdown",
      "source": [
        "**Define Functions**"
      ],
      "metadata": {
        "id": "mCmOWDtqmKCb"
      }
    },
    {
      "cell_type": "code",
      "source": [
        "def number_game_simple_init(N, interval_prior, math_prior):\n",
        "\n",
        "\tif abs((interval_prior + math_prior) - 1) > 0.05:\n",
        "\t  raise ValueError('Sum of interval prior and math prior should be 1!')\n",
        "\n",
        "\t# Generate interval concepts of small and medium length\n",
        "\thypotheses = np.zeros((0, N))\n",
        "\tvals = np.arange(N) + 1\n",
        "\n",
        "\tfor size in np.arange(0, 50):\n",
        "\t\tfor start in np.arange(N-size):\n",
        "\t\t\tend = start + size\n",
        "\t\t\tinterval = np.zeros(N)\n",
        "\t\t\tinterval[start:end+1] = 1\n",
        "\t\t\thypotheses = np.vstack([hypotheses, interval])\n",
        "\n",
        "\tlast_interval_concept = hypotheses.shape[0]\n",
        "\n",
        "\t# Put in odds\n",
        "\t#concept = np.equal(np.mod(vals, 2), 1).astype(int)\n",
        "\t#hypotheses = np.vstack([hypotheses, concept])\n",
        "\n",
        "\t# Put in multiples of 2 to 10\n",
        "\t#for base in np.arange(2,11):\n",
        "\t#\tconcept = np.equal(np.mod(vals, base), 0).astype(int)\n",
        "\t#\thypotheses = np.vstack([hypotheses, concept])\n",
        "\n",
        "\tlast_hypothesis = hypotheses.shape[0]\n",
        "\n",
        "\t# Compute prior probabilities\n",
        "\tpriors = np.empty(last_hypothesis)\n",
        "\tpriors[:last_interval_concept] = interval_prior/last_interval_concept\n",
        "\t#priors[last_interval_concept:] = math_prior/(last_hypothesis-last_interval_concept)\n",
        "\n",
        "\treturn hypotheses, priors\n",
        "\n",
        "\n",
        "def number_game_likelihood(hypothesis, data):\n",
        "    \"\"\"\n",
        "\t\thypothesis is a logical (0 or 1) vector on N elements, where\n",
        "\t\thypothesis[i] = 1 iff i is contained in the extension of the\n",
        "\t\tconcept represented by hypothesis.\n",
        "\n",
        "\t\tdata is, similarly, a logical vector where data[i] = 1 iff\n",
        "\t\ti is contained in the observed dataset.\n",
        "\n",
        "\t\tnote that length(hypothesis) == length(data) unless the caller\n",
        "\t\tof this procedure messed up\n",
        "\n",
        "\t\tTODO: first check if data is consistent with the given hypothesis.\n",
        "\n",
        "\t\tif it isn't, P(D|H) = 0.\n",
        "\n",
        "\t\tTODO: under strong sampling WITH REPLACEMENT, every consistent hypothesis\n",
        "\t\tassigns probability 1/(#options) to each data draw.\n",
        "\t\"\"\"\n",
        "    for i in range(len(data)):\n",
        "        if data[i] == 1:\n",
        "            if hypothesis[i] == 0:\n",
        "                return np.log(0)\n",
        "    \n",
        "    likelihood = (1 / sum(hypothesis))**(sum(data))\n",
        "    log_likelihood = np.log(likelihood)\n",
        "\n",
        "    return log_likelihood\n",
        "\n",
        "def number_game_plot_predictions(hypotheses, priors, data):\n",
        "\t\"\"\"\n",
        "\t\thypotheses = a matrix whose columns are particular hypotheses,\n",
        "\t\trepresented as logical vectors reflecting datapoint membership\n",
        "\n",
        "\t\tpriors = a vector of prior probabilities for each hypothesis\n",
        "\n",
        "\t\tdata = a vector of observed numbers\n",
        "\t\"\"\"\n",
        "\tdef numbers_to_logical(data):\n",
        "\t\tif np.isscalar(data): data = [data]\n",
        "\t\tlogical_data = np.zeros(N)\n",
        "\t\tfor datum in data:\n",
        "\t\t\tlogical_data[datum-1] = 1\n",
        "\t\treturn logical_data\n",
        "\n",
        "\thyps, N = hypotheses.shape\n",
        "\tlogical_data = numbers_to_logical(data)\n",
        "\n",
        "\t# Compute the posterior for every hypothesis\n",
        "\tposteriors = np.zeros(hyps)\n",
        "\n",
        "\tfor h in np.arange(hyps):\n",
        "\t\tlog_joint = np.log(priors[h]) + number_game_likelihood(hypotheses[h,:], logical_data)\n",
        "\t\tjoint = np.exp(log_joint)\n",
        "\t\tposteriors[h] = joint\n",
        "\n",
        "\tposteriors /= np.sum(posteriors)\n",
        "\n",
        "\t# Compute the predictive contribution for each\n",
        "\t# hypothesis and add it in to the predictive\n",
        "\n",
        "\tpredictive = np.dot(posteriors, hypotheses)\n",
        "\n",
        "\t# Plot it as a bar chart, also plot human data (if available)\n",
        "\t# and the top 6 hypotheses in decreasing order of posterior\n",
        "\t# probability\n",
        "\n",
        "\tfig, ax = plt.subplots(6,1, figsize=(7, 7))\n",
        "\tfig.subplots_adjust(top=0.95, bottom=0.05, hspace=0.85, left=0.05, right=0.95)\n",
        "\n",
        "\n",
        "\tax[0].bar(np.arange(N)+1.0, predictive, 0.5, color='k')\n",
        "\tif np.isscalar(data): data = [data]\n",
        "\tax[0].set_xlim([-0.5, (N+1)+0.5])\n",
        "\tax[0].set_ylim([-0.05, 1.05])\n",
        "\n",
        "\tplt.show()"
      ],
      "metadata": {
        "id": "HbsDz0QcxUoq"
      },
      "execution_count": 110,
      "outputs": []
    },
    {
      "cell_type": "markdown",
      "source": [
        "**Project Experiments**"
      ],
      "metadata": {
        "id": "rVZMxx_sl7WZ"
      }
    },
    {
      "cell_type": "code",
      "source": [
        "# Define priors\n",
        "N = 100 # In $10mn, i.e., total of $5bn budget\n",
        "interval_prior = 0.95\n",
        "math_prior = 0.05\n",
        "\n",
        "# Data of 15 participants for 4 different anchors\n",
        "data0 = [10, 0, 5, 10, 50, 10, 10, 50, 50, 0, 10, 0, 2, 10, 10] # Budget\n",
        "data1 = [20, 0, 10, 20, 50, 15, 5, 50, 50, 15, 10, 0, 2, 10, 10] # Type of disaster\n",
        "data2 = [50, 0, 10, 30, 70, 15, 5, 100, 100, 20, 15, 1, 2, 30, 10] # Infrastructure\n",
        "data3 = [20, 0, 10, 30, 50, 15, 0, 50, 40, 8, 12, 1, 2, 10, 10] # Human loss\n",
        "\n",
        "anchor0 = [15]\n",
        "anchor1 = [15, 18]\n",
        "anchor2 = [15, 18, 31]\n",
        "anchor3 = [15, 18, 31, 17]"
      ],
      "metadata": {
        "id": "ftVZV19ll_P-"
      },
      "execution_count": 157,
      "outputs": []
    },
    {
      "cell_type": "code",
      "source": [
        "# Experiment for data0 (prior to information, only budget known)\n",
        "hypotheses, priors = number_game_simple_init(N, interval_prior, math_prior)\n",
        "number_game_plot_predictions(hypotheses, priors, anchor0)"
      ],
      "metadata": {
        "colab": {
          "base_uri": "https://localhost:8080/",
          "height": 539
        },
        "id": "xJDzTNwtrQpj",
        "outputId": "c76d4950-d12d-48ac-af62-f27c0da96b37"
      },
      "execution_count": 158,
      "outputs": [
        {
          "output_type": "stream",
          "name": "stderr",
          "text": [
            "<ipython-input-110-6d646ad080ff>:60: RuntimeWarning: divide by zero encountered in log\n",
            "  return np.log(0)\n"
          ]
        },
        {
          "output_type": "display_data",
          "data": {
            "text/plain": [
              "<Figure size 504x504 with 6 Axes>"
            ],
            "image/png": "[encoded data removed]"
          },
          "metadata": {
            "needs_background": "light"
          }
        }
      ]
    },
    {
      "cell_type": "code",
      "source": [
        "# Experiment for data1 (type of disaster)\n",
        "hypotheses, priors = number_game_simple_init(N, interval_prior, math_prior)\n",
        "number_game_plot_predictions(hypotheses, priors, anchor1)"
      ],
      "metadata": {
        "colab": {
          "base_uri": "https://localhost:8080/",
          "height": 539
        },
        "id": "qz52ZYYLl0GN",
        "outputId": "ef217bee-6d7d-49f8-aeb2-5028bb75431b"
      },
      "execution_count": 137,
      "outputs": [
        {
          "output_type": "stream",
          "name": "stderr",
          "text": [
            "<ipython-input-110-6d646ad080ff>:60: RuntimeWarning: divide by zero encountered in log\n",
            "  return np.log(0)\n"
          ]
        },
        {
          "output_type": "display_data",
          "data": {
            "text/plain": [
              "<Figure size 504x504 with 6 Axes>"
            ],
            "image/png": "[encoded data removed]"
          },
          "metadata": {
            "needs_background": "light"
          }
        }
      ]
    },
    {
      "cell_type": "code",
      "source": [
        "# Experiment for data2 (severity of infrastructural destruction)\n",
        "hypotheses, priors = number_game_simple_init(N, interval_prior, math_prior)\n",
        "number_game_plot_predictions(hypotheses, priors, anchor2)"
      ],
      "metadata": {
        "colab": {
          "base_uri": "https://localhost:8080/",
          "height": 539
        },
        "id": "764_B7ZImGQ4",
        "outputId": "b7e83f20-997b-4974-d0e4-36c642f54b6f"
      },
      "execution_count": 138,
      "outputs": [
        {
          "output_type": "stream",
          "name": "stderr",
          "text": [
            "<ipython-input-110-6d646ad080ff>:60: RuntimeWarning: divide by zero encountered in log\n",
            "  return np.log(0)\n"
          ]
        },
        {
          "output_type": "display_data",
          "data": {
            "text/plain": [
              "<Figure size 504x504 with 6 Axes>"
            ],
            "image/png": "[encoded data removed]"
          },
          "metadata": {
            "needs_background": "light"
          }
        }
      ]
    },
    {
      "cell_type": "code",
      "source": [
        "# Experiment for data3 (severity of human loss)\n",
        "hypotheses, priors = number_game_simple_init(N, interval_prior, math_prior)\n",
        "number_game_plot_predictions(hypotheses, priors, anchor3)"
      ],
      "metadata": {
        "colab": {
          "base_uri": "https://localhost:8080/",
          "height": 539
        },
        "id": "SvGHc5yimIGG",
        "outputId": "0b67d5ba-c55d-4d66-ef7d-afc1a485e2b2"
      },
      "execution_count": 139,
      "outputs": [
        {
          "output_type": "stream",
          "name": "stderr",
          "text": [
            "<ipython-input-110-6d646ad080ff>:60: RuntimeWarning: divide by zero encountered in log\n",
            "  return np.log(0)\n"
          ]
        },
        {
          "output_type": "display_data",
          "data": {
            "text/plain": [
              "<Figure size 504x504 with 6 Axes>"
            ],
            "image/png": "[encoded data removed]"
          },
          "metadata": {
            "needs_background": "light"
          }
        }
      ]
    },
    {
      "cell_type": "markdown",
      "source": [
        "**Extensions through bootstrapping if necessary**"
      ],
      "metadata": {
        "id": "sBqbzJ6T5O-c"
      }
    },
    {
      "cell_type": "code",
      "source": [
        "# Bootstrapping\n",
        "data0_v2 = copy.deepcopy(data0)\n",
        "data1_v2 = copy.deepcopy(data1)\n",
        "data2_v2 = copy.deepcopy(data2)\n",
        "data3_v2 = copy.deepcopy(data3)\n",
        "\n",
        "# data0\n",
        "for _ in range(35):\n",
        "    x = np.random.choice(data0, size = 100, replace = True)\n",
        "    data0_v2.append(round(x.mean()))\n",
        "\n",
        "# data1\n",
        "for _ in range(35):\n",
        "    x = np.random.choice(data1, size = 100, replace = True)\n",
        "    data1_v2.append(round(x.mean()))\n",
        "\n",
        "# data2\n",
        "for _ in range(35):\n",
        "    x = np.random.choice(data2, size = 100, replace = True)\n",
        "    data2_v2.append(round(x.mean()))\n",
        "\n",
        "# data3\n",
        "for _ in range(35):\n",
        "    x = np.random.choice(data3, size = 100, replace = True)\n",
        "    data3_v2.append(round(x.mean()))\n",
        "\n",
        "# Check\n",
        "print(data0_v2)\n",
        "print(data1_v2)\n",
        "print(data2_v2)\n",
        "print(data3_v2)"
      ],
      "metadata": {
        "colab": {
          "base_uri": "https://localhost:8080/"
        },
        "id": "XMSE1vaxt07u",
        "outputId": "9ac27ad4-34b6-4bea-b6a5-964753e54a1f"
      },
      "execution_count": 150,
      "outputs": [
        {
          "output_type": "stream",
          "name": "stdout",
          "text": [
            "[10, 1, 5, 10, 50, 10, 10, 50, 50, 1, 10, 1, 2, 10, 10, 13, 19, 15, 12, 17, 16, 17, 14, 16, 12, 16, 18, 14, 18, 12, 15, 13, 13, 14, 15, 16, 16, 16, 13, 18, 19, 15, 14, 17, 14, 18, 15, 12, 17, 15]\n",
            "[20, 1, 10, 20, 50, 15, 5, 50, 50, 15, 10, 1, 2, 10, 10, 21, 18, 18, 18, 17, 18, 16, 19, 17, 19, 17, 17, 19, 17, 19, 19, 19, 18, 17, 20, 17, 19, 18, 19, 16, 21, 17, 19, 17, 20, 19, 18, 19, 16, 16]\n",
            "[50, 1, 10, 30, 70, 15, 5, 100, 100, 20, 15, 1, 2, 30, 10, 31, 30, 33, 31, 26, 30, 32, 27, 33, 27, 28, 23, 29, 30, 27, 32, 23, 31, 32, 37, 25, 25, 32, 32, 32, 29, 40, 33, 40, 25, 36, 36, 27, 30, 33]\n",
            "[20, 1, 10, 30, 50, 15, 1, 50, 40, 8, 12, 1, 2, 10, 10, 19, 20, 19, 17, 14, 17, 18, 17, 17, 18, 19, 17, 16, 19, 17, 16, 15, 18, 17, 16, 20, 18, 15, 12, 16, 16, 19, 17, 18, 17, 15, 16, 17, 21, 16]\n"
          ]
        }
      ]
    }
  ]
}
